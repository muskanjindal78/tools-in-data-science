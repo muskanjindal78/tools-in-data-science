{
  "nbformat": 4,
  "nbformat_minor": 0,
  "metadata": {
    "colab": {
      "provenance": []
    },
    "kernelspec": {
      "display_name": "Python 3",
      "language": "python",
      "name": "python3"
    },
    "language_info": {
      "codemirror_mode": {
        "name": "ipython",
        "version": 3
      },
      "file_extension": ".py",
      "mimetype": "text/x-python",
      "name": "python",
      "nbconvert_exporter": "python",
      "pygments_lexer": "ipython3",
      "version": "3.8.5"
    }
  },
  "cells": [
    {
      "cell_type": "markdown",
      "metadata": {
        "id": "DFVYyoMKKj7i"
      },
      "source": [
        "# Probability in Python"
      ]
    },
    {
      "cell_type": "markdown",
      "metadata": {
        "id": "yQnPw68Ono8S"
      },
      "source": [
        "# Importing packages\n",
        "\n",
        "You can ignore this part for now."
      ]
    },
    {
      "cell_type": "code",
      "metadata": {
        "id": "pV7_0aGuiytb"
      },
      "source": [
        "import numpy as np"
      ],
      "execution_count": null,
      "outputs": []
    },
    {
      "cell_type": "markdown",
      "metadata": {
        "id": "qdCYJhrAoHVZ"
      },
      "source": [
        "# Function for uniform outcome\n",
        "\n",
        "$n$: number of outcomes in the sample space\n",
        "\n",
        "Output: $m$ outcomes selected uniformly at random from 1 to $n$"
      ]
    },
    {
      "cell_type": "code",
      "metadata": {
        "cellView": "code",
        "id": "JK-MRio0oRX7"
      },
      "source": [
        "def uniform(n, m):\n",
        "  return np.random.randint(1, n+1, size = m)"
      ],
      "execution_count": null,
      "outputs": []
    },
    {
      "cell_type": "markdown",
      "metadata": {
        "id": "3SKtwjTtphMd"
      },
      "source": [
        "# Toss a coin\n",
        "\n",
        "Toss once, 10 times and 100 times\n",
        "\n",
        "1: Heads and 2: Tails"
      ]
    },
    {
      "cell_type": "code",
      "metadata": {
        "colab": {
          "base_uri": "https://localhost:8080/"
        },
        "id": "b3nsAJiVpuvD",
        "outputId": "811f3c04-d6d4-40c3-bb9c-32ac9da92f65"
      },
      "source": [
        "print(uniform(2, 1))\n",
        "print(uniform(2, 10))\n",
        "print(uniform(2,100))"
      ],
      "execution_count": null,
      "outputs": [
        {
          "output_type": "stream",
          "text": [
            "[2]\n",
            "[2 2 1 1 2 1 2 2 1 2]\n",
            "[1 1 1 2 1 1 1 2 1 2 2 2 2 1 2 1 1 1 1 2 2 2 1 1 2 1 2 1 1 2 1 2 1 1 1 2 1\n",
            " 1 2 2 1 1 1 1 2 1 1 1 1 1 2 2 1 2 2 2 1 2 2 1 1 1 2 2 1 2 1 1 1 2 1 2 1 1\n",
            " 1 2 2 2 2 2 2 2 2 2 2 1 2 2 1 2 2 2 2 2 1 2 1 2 2 1]\n"
          ],
          "name": "stdout"
        }
      ]
    },
    {
      "cell_type": "markdown",
      "metadata": {
        "id": "4_IBZkw6rqxM"
      },
      "source": [
        "# Throw a die\n",
        "\n",
        "Throw once, 10 times and 100 times"
      ]
    },
    {
      "cell_type": "code",
      "metadata": {
        "colab": {
          "base_uri": "https://localhost:8080/"
        },
        "id": "yVHb3PymsU_K",
        "outputId": "4bcd110d-aab9-4ad0-a527-af0520e8e014"
      },
      "source": [
        "print(uniform(6, 1))\n",
        "print(uniform(6, 10))\n",
        "print(uniform(6,100))"
      ],
      "execution_count": null,
      "outputs": [
        {
          "output_type": "stream",
          "text": [
            "[6]\n",
            "[4 5 2 3 6 3 5 1 5 2]\n",
            "[1 4 4 6 1 6 3 3 2 3 2 2 2 4 6 5 2 2 2 5 4 5 4 5 5 6 2 5 6 2 3 2 6 6 1 2 2\n",
            " 6 4 1 3 5 6 2 2 3 1 5 2 1 4 5 2 2 3 1 1 6 2 2 4 6 5 2 5 2 1 4 2 5 1 4 1 1\n",
            " 2 2 2 2 5 6 4 4 2 4 1 3 1 6 4 5 3 6 2 1 6 2 2 2 2 2]\n"
          ],
          "name": "stdout"
        }
      ]
    },
    {
      "cell_type": "markdown",
      "metadata": {
        "id": "Y8gHArc-vs77"
      },
      "source": [
        "# Estimating probability by simulation - Monte Carlo\n",
        "\n",
        "The probability of an event $A$ can be estimated as follows. We can simulate the experiment repeatedly and independently, say $N$ times, and count the number of times the event occurred, say $N_A$.\n",
        "\n",
        "A good estimate of $P(A)$ is the following:\n",
        "$$P(A) \\approx \\frac{N_A}{N}$$\n",
        "As $N$ grows larger and larger, the estimate becomes better and better. This method is generally termed as Monte Carlo simulation.\n",
        "\n",
        "We will first evaluate probability of coin toss described above using Monte Carlo simulations. There are two steps: generate a large number of tosses and count the number of heads or tails. These two steps can be written in a single loop usually.\n",
        "\n",
        "You should run the simulation multiple times to see what probability estimate is obtained each time. You will see that the estimate is close to 0.5."
      ]
    },
    {
      "cell_type": "code",
      "metadata": {
        "colab": {
          "base_uri": "https://localhost:8080/"
        },
        "id": "Yn3MxagQxYxz",
        "outputId": "f16b9a1c-3c8c-4966-e44a-4fdc8fe339b4"
      },
      "source": [
        "no_heads = 0   #variable for storing number of heads\n",
        "for i in range(1000): #repeat 1000 times\n",
        "  if uniform(2, 1) == 1: #check if coin toss is heads\n",
        "    no_heads = no_heads + 1\n",
        "print(no_heads/1000) #probability estimate by Monte Carlo"
      ],
      "execution_count": null,
      "outputs": [
        {
          "output_type": "stream",
          "text": [
            "0.5\n"
          ],
          "name": "stdout"
        }
      ]
    },
    {
      "cell_type": "markdown",
      "metadata": {
        "id": "fNTXoPKaytVy"
      },
      "source": [
        "# Probability of die showing a number\n",
        "\n",
        "We will modify the Monte Carlo simulation above for finding the probability that a dies shows a number falling in an event $A$. You will see that the estimate is close to $P(A)$. If you change the loop iterations to 10000, the estimate will be much closer to $P(A)$ and more consistent as well."
      ]
    },
    {
      "cell_type": "code",
      "metadata": {
        "colab": {
          "base_uri": "https://localhost:8080/"
        },
        "id": "9U8CCvkly4Tv",
        "outputId": "7df0da4e-2ef1-41d4-c5d7-0c31a9723f22"
      },
      "source": [
        "no = 0   #variable for storing number of event occurence\n",
        "for i in range(10000): #repetitions\n",
        "  die = uniform(6,1)  #experiment\n",
        "  if die == 1 or die == 3: #Event\n",
        "    no = no + 1\n",
        "print(no/10000) #probability estimate by Monte Carlo"
      ],
      "execution_count": null,
      "outputs": [
        {
          "output_type": "stream",
          "text": [
            "0.3338\n"
          ],
          "name": "stdout"
        }
      ]
    },
    {
      "cell_type": "markdown",
      "metadata": {
        "id": "e6q5-pb0tZxR"
      },
      "source": [
        "# Birthday problem\n",
        "\n",
        "In a group of $n$ persons, what is the chance that some two have the same birthday? Assume birthday of a person is uniformly distributed in $\\{1,2,\\ldots,365\\}$ and is independent of all other birthdays. Most people will think that you need at least 100 persons before you start seeing same birthdays. However, surprisingly perhaps, even with 23 persons there is a 50% chance of two sharing a birthday.\n",
        "\n",
        "Event $A$: some two have same birthday\n",
        "\n",
        "Event $A^c$: no two have same birthday\n",
        "\n",
        "$A^c$: (Birthday 1 on any date $B_1$) and (Birthday 2 on any date other than $B_1$) and (Birthday 3 on any date other than $B_1$, $B_2$) and ... and (Birthday $n$ on any day other than $B_1,B_2,\\ldots,B_{n-1}$)\n",
        "\n",
        "$P(A^c)= 1 \\cdot \\left(1 - \\frac{1}{365}\\right)\\left(1 - \\frac{2}{365}\\right)\\cdots\\left(1 - \\frac{n-1}{365}\\right)$\n",
        "\n",
        "If $n=10$, what is the chance? If $n=30$, what is the chance?\n",
        "\n",
        "We will do a Monte Carlo simulation to estimate the probability and compare with the calculation above."
      ]
    },
    {
      "cell_type": "code",
      "metadata": {
        "colab": {
          "base_uri": "https://localhost:8080/"
        },
        "id": "n8tdz2TGz20G",
        "outputId": "5f573761-3ef5-47a7-ddbb-b1492ab0ffe7"
      },
      "source": [
        "no = 0   #variable for storing number of event occurence\n",
        "n = 60 #number of persons\n",
        "print(1 - np.prod(1-np.arange(1,n)/365)) #probability from expression\n",
        "\n",
        "for i in range(1000):\n",
        "  B = np.zeros(366)   #array to keep track of birthdays seen\n",
        "  for j in range(n): #generate birthdays for each person\n",
        "    Bi = uniform(365, 1) #i-th birthday\n",
        "    if B[Bi]  == 0:  #if Bi is seen for the first time\n",
        "      B[Bi] = 1  #make note that Bi has been seen\n",
        "    else:\n",
        "      no = no + 1   #if Bi has been seen before, then two birthdays are same\n",
        "      break   #we can stop generating more birthdays and exit loop early\n",
        "\n",
        "print(no/1000) #probability estimate by Monte Carlo"
      ],
      "execution_count": null,
      "outputs": [
        {
          "output_type": "stream",
          "text": [
            "0.994122660865348\n",
            "0.996\n"
          ],
          "name": "stdout"
        }
      ]
    },
    {
      "cell_type": "markdown",
      "metadata": {
        "id": "DNs7eAms4KMr"
      },
      "source": [
        "# Monty Hall problem\n",
        "\n",
        "Here is the problem taken from the [Wiki page](https://en.wikipedia.org/wiki/Monty_Hall_problem).\n",
        "\n",
        "> Suppose you're on a game show, and you're given the choice of three doors: Behind one door is a car; behind the others, goats. You pick a door, say No. 1, and the host, who knows what's behind the doors, opens another door, say No. 3, which has a goat. He then says to you, \"Do you want to pick door No. 2?\" Is it to your advantage to switch your choice?\n",
        "\n",
        "The assumptions (also taken from [Wiki](https://en.wikipedia.org/wiki/Monty_Hall_problem)) are as follows:\n",
        "1. Car and goats are placed at random behind the doors.\n",
        "2. Host always picks a door not chosen by contestant.\n",
        "3. Host always reveals a goat and not a car.\n",
        "4. Host always offers a choice to switch from the original door to the other closed door.\n",
        "\n",
        "Under the above assumptions, here are the probabilities of winning.\n",
        "\n",
        "P(win if contestant chooses to switch) = 2/3\n",
        "\n",
        "P(win if contestant does not switch) = 1/3\n",
        "\n",
        "You can see the Wiki page for the computation. Let us simulate and find the probability of winning under switch by Monte Carlo."
      ]
    },
    {
      "cell_type": "code",
      "metadata": {
        "colab": {
          "base_uri": "https://localhost:8080/"
        },
        "id": "DBpwENXM6okN",
        "outputId": "f15582b6-62d5-43f7-f71c-3cdfaee89d3c"
      },
      "source": [
        "no = 0   #variable for storing number of event occurence\n",
        "for i in range(1000):\n",
        "  car_loc = uniform(3, 1)\n",
        "  if car_loc == 1:\n",
        "    goat1_loc = 2; goat2_loc = 3\n",
        "  elif car_loc == 2:\n",
        "    goat1_loc = 1; goat2_loc = 3\n",
        "  else:\n",
        "    goat1_loc = 1; goat2_loc = 2\n",
        "\n",
        "  contestant_orig = uniform(3, 1)\n",
        "  if contestant_orig == goat1_loc:\n",
        "    host_reveal_loc = goat2_loc; other_closed_door = car_loc\n",
        "  elif contestant_orig == goat2_loc:\n",
        "    host_reveal_loc = goat1_loc; other_closed_door = car_loc\n",
        "  else:\n",
        "    host_reveal_loc = goat1_loc; other_closed_door = goat2_loc\n",
        "  if other_closed_door == car_loc:\n",
        "    no = no + 1\n",
        "\n",
        "print(no/1000) #probability estimate by Monte Carlo"
      ],
      "execution_count": null,
      "outputs": [
        {
          "output_type": "stream",
          "text": [
            "0.663\n"
          ],
          "name": "stdout"
        }
      ]
    },
    {
      "cell_type": "markdown",
      "metadata": {
        "id": "nZhp9jXvBJgD"
      },
      "source": [
        "# Polya's urn scheme\n",
        "\n",
        "Suppose an urn contains $r$ red and $b$ blue balls. The experiment proceeds in multiple steps, where Step $i$ is as follows:\n",
        "\n",
        "Step $i$: Draw a ball at random, note down its colour and replace it in the urn. Add $c$ more balls of the same colour to the urn.\n",
        "\n",
        "Let $R_i$ be the event that the $i$-th ball drawn is red. Let $B_i$ be the event that the $i$-th abll drawn is black.\n",
        "\n",
        "Clearly, $P(R_1) = \\frac{r}{r+b}$ and $P(B_1)=\\frac{b}{r+b}$. It is perhaps surprising that, irrespective of $c$, we have, for all $i$,\n",
        "$$P(R_i) = \\frac{r}{r+b}, P(B_i) = \\frac{b}{r+b}.$$\n",
        "To prove the above, you can use induction. Assume that the above is true for $i$ and show it is true for $i+1$. Starting with $i=1$, by induction, the statement becomes true.\n",
        "\n",
        "We will setup a Monte Carlo simulation for verifying $P(R_i)$ above for a few steps."
      ]
    },
    {
      "cell_type": "code",
      "metadata": {
        "colab": {
          "base_uri": "https://localhost:8080/"
        },
        "id": "0ASv_By4Cm1v",
        "outputId": "f1d98feb-0ebf-4bf6-99ea-b9f471b3bccb"
      },
      "source": [
        "no = 0   #variable for storing number of event occurence\n",
        "r = 10; b = 5 #assume 1 to r is red and r+1 to r+b is blue\n",
        "print(r/(r+b))\n",
        "for i in range(1000):\n",
        "  r = 10; b = 5\n",
        "  c = 3\n",
        "  for j in range(5): #do 5 steps\n",
        "    if uniform(r+b, 1) <= r:\n",
        "      r = r + c\n",
        "    else:\n",
        "      b = b + c\n",
        "  if uniform(r+b, 1) <= r: #in the 6th step, count if red ball drawn\n",
        "    no = no + 1\n",
        "print(no/1000) #probability estimate by Monte Carlo"
      ],
      "execution_count": null,
      "outputs": [
        {
          "output_type": "stream",
          "text": [
            "0.6666666666666666\n",
            "0.66\n"
          ],
          "name": "stdout"
        }
      ]
    },
    {
      "cell_type": "markdown",
      "metadata": {
        "id": "qH8Vqtw0dpgt"
      },
      "source": [
        "# Gambler's ruin (simple random walk)\n",
        "\n",
        "A gambler starting with $k$ units of money plays the following game at a casino:\n",
        "\n",
        "* If he has $\\ge 1$ units of money, a coin is tossed. If heads, the casino pays him 1 unit. If tails, he loses 1 unit to the casino.\n",
        "* If he loses all money, he goes bankrupt and stops.\n",
        "* If he gets $N$ units of money, he wins and stops playing.\n",
        "\n",
        "If $p$ is the probability of heads and $q=1-p$, it can be shown that\n",
        "$$\\text{Pr}(\\text{Bankruptcy})=\\begin{cases}\n",
        "1-k/N,&\\text{ if }p=q=1/2,\\\\\n",
        "\\frac{\\left(\\dfrac{q}{p}\\right)^k-\\left(\\dfrac{q}{p}\\right)^N}{1-\\left(\\dfrac{q}{p}\\right)^N}, &\\text{ if }p\\ne q.\n",
        "\\end{cases}$$\n",
        "You can see some details of the proof of the above in the [Wiki page](https://en.wikipedia.org/wiki/Gambler%27s_ruin). Suppose $x_k$ denotes the probability of bankruptcy starting with $k$ units. The main idea is to condition on the first toss and derive the following recursive equation:\n",
        "$$\\begin{align}\n",
        "x_k&=P(\\text{Bankruptcy}\\ |\\ \\text{first toss is head})\\ p\\ +\\ P(\\text{Bankruptcy}\\ |\\ \\text{first toss is tail})\\ q\\\\\n",
        "&=x_{k+1}p+x_{k-1}q\n",
        "\\end{align}$$\n",
        "with boundary conditions $x_0=1$ and $x_N=0$. Solution of the recursive equation results in the above closed form expression for $x_k$.\n",
        "\n",
        "We are interested in Monte Carlo simulation of Gambler's ruin and verification of the formula for $x_k$. First, we consider the case $p=1/2$."
      ]
    },
    {
      "cell_type": "code",
      "metadata": {
        "colab": {
          "base_uri": "https://localhost:8080/"
        },
        "id": "9NRYRt5VgAon",
        "outputId": "78a285e7-c400-49e2-8ed4-22a6d97e0e5d"
      },
      "source": [
        "no = 0   #variable for storing number of event occurence\n",
        "k = 5; N = 10\n",
        "print(1-k/N)\n",
        "for i in range(1000):\n",
        "  k = 5\n",
        "  while k > 0 and k < N:\n",
        "    if uniform(2, 1) == 1:\n",
        "      k = k + 1\n",
        "    else:\n",
        "      k = k - 1\n",
        "  if k == 0:\n",
        "    no = no + 1\n",
        "print(no/1000) #probability estimate by Monte Carlo"
      ],
      "execution_count": null,
      "outputs": [
        {
          "output_type": "stream",
          "text": [
            "0.5\n",
            "0.505\n"
          ],
          "name": "stdout"
        }
      ]
    },
    {
      "cell_type": "markdown",
      "metadata": {
        "id": "r_5U3VccjTjY"
      },
      "source": [
        "# Toss a biased coin\n",
        "\n",
        "For $p\\ne q$, we require a method to toss a biased coin. This is accomplished by the following function that generates $m$ coin tosses with probability of heads equal to $p$. Note that a value of 1 represents heads and 2 represents tails as before."
      ]
    },
    {
      "cell_type": "code",
      "metadata": {
        "id": "5CWVmSF5jdVj"
      },
      "source": [
        "def biased(p, m):\n",
        "  return 2-(np.random.rand(m) < p)"
      ],
      "execution_count": null,
      "outputs": []
    },
    {
      "cell_type": "code",
      "metadata": {
        "colab": {
          "base_uri": "https://localhost:8080/"
        },
        "id": "zMoilhs-kbgG",
        "outputId": "3c1e7f3e-da7c-46ef-a052-0c51ea07ec7a"
      },
      "source": [
        "no_heads = 0   #variable for storing number of heads\n",
        "p = 0.25\n",
        "print(p)\n",
        "for i in range(1000):\n",
        "  if biased(p, 1) == 1:\n",
        "    no_heads = no_heads + 1\n",
        "print(no_heads/1000) #probability estimate by Monte Carlo"
      ],
      "execution_count": null,
      "outputs": [
        {
          "output_type": "stream",
          "text": [
            "0.25\n",
            "0.253\n"
          ],
          "name": "stdout"
        }
      ]
    },
    {
      "cell_type": "markdown",
      "metadata": {
        "id": "pWB6g3EIkySB"
      },
      "source": [
        "# Biased Gambler's ruin\n",
        "\n",
        "We now simulate the biased version of Gambler's ruin."
      ]
    },
    {
      "cell_type": "code",
      "metadata": {
        "colab": {
          "base_uri": "https://localhost:8080/"
        },
        "id": "pXljvNWKk4Cm",
        "outputId": "326631a2-a773-495a-8f32-dd2b3fb62a72"
      },
      "source": [
        "no = 0   #variable for storing number of event occurence\n",
        "p = 0.35\n",
        "qbyp = (1-p)/p\n",
        "k = 5; N = 10\n",
        "print((qbyp**k-qbyp**N)/(1-qbyp**N))\n",
        "for i in range(1000):\n",
        "  k = 5\n",
        "  while k > 0 and k < N:\n",
        "    if biased(p, 1) == 1:\n",
        "      k = k + 1\n",
        "    else:\n",
        "      k = k - 1\n",
        "  if k == 0:\n",
        "    no = no + 1\n",
        "print(no/1000) #probability estimate by Monte Carlo"
      ],
      "execution_count": null,
      "outputs": [
        {
          "output_type": "stream",
          "text": [
            "0.9566941509920124\n",
            "0.964\n"
          ],
          "name": "stdout"
        }
      ]
    },
    {
      "cell_type": "markdown",
      "metadata": {
        "id": "kd3grxAHOxuX"
      },
      "source": [
        "# Casino die game\n",
        "Throw a pair of die. A player bets $k_1$ units of money on whether the sum of the two numbers is Under 7 or Over 7, and $k_2$ units on Equal to 7. For Under 7 and Over 7, the returns are $a$:1, while, for Equal to 7, the returns are $b$:1, if the player wins the bet. If the bet is lost, the unit of money goes to the casino.\n",
        "\n",
        "The strategy for betting will be to independently and randomly select one of the 3 bets. The simulation will track the average return over a large number of trails."
      ]
    },
    {
      "cell_type": "code",
      "metadata": {
        "colab": {
          "base_uri": "https://localhost:8080/"
        },
        "id": "lHd9SqWJQgbQ",
        "outputId": "484aa00f-4e57-4441-b344-f597b065cc26"
      },
      "source": [
        "a = 1.0; b = 4.0\n",
        "k1 = 1; k2 = 1\n",
        "print((((a-1)*5-7)*k1+((b-1)-5)*k2)/6/3) #expected gain\n",
        "avg_return = 0\n",
        "for i in range(1000):\n",
        "  bet = uniform(3,1) #1 - Under 7, 2 - Over 7, 3 - Equal to 7\n",
        "  sum = uniform(6,1) + uniform(6,1)\n",
        "  if ((bet == 1) and (sum < 7)) or ((bet == 2) and (sum > 7)): #win for Under 7 or Over 7 bet\n",
        "    avg_return = avg_return + k1*(a-1)/1000\n",
        "  if (bet == 3) and (sum == 7): #win for Equal to 7 bet\n",
        "    avg_return = avg_return + k2*(b-1)/1000\n",
        "  if ((bet == 1) and (sum >= 7)) or ((bet == 2) and (sum <= 7)): #loss for Under 7 or Over 7 bet\n",
        "    avg_return = avg_return + (-k1)/1000\n",
        "  if (bet == 3) and (sum != 7): #loss for Equal to 7 bet\n",
        "    avg_return = avg_return + (-k2)/1000\n",
        "\n",
        "print(avg_return) #simulated gain"
      ],
      "execution_count": null,
      "outputs": [
        {
          "output_type": "stream",
          "text": [
            "-0.5\n",
            "-0.5080000000000005\n"
          ],
          "name": "stdout"
        }
      ]
    },
    {
      "cell_type": "markdown",
      "metadata": {
        "id": "8t26cBgqYdR0"
      },
      "source": [
        "# Import statistics module\n",
        "We will use scipy.stats, which has several functions for statistics and probability distributions."
      ]
    },
    {
      "cell_type": "code",
      "metadata": {
        "id": "cfuXiM6_YopX"
      },
      "source": [
        "import scipy.stats as st"
      ],
      "execution_count": null,
      "outputs": []
    },
    {
      "cell_type": "markdown",
      "metadata": {
        "id": "tPUDZwyMYxor"
      },
      "source": [
        "# Expected value of common distributions\n",
        "The module has functions for generating binomial, geometric, Poisson and other distributions. We will generate a large number of samples and compute the average value and compare with the expected value."
      ]
    },
    {
      "cell_type": "code",
      "metadata": {
        "colab": {
          "base_uri": "https://localhost:8080/"
        },
        "id": "gZJcOoqGZaTM",
        "outputId": "c0452412-680a-427a-f9bc-592dae8747c8"
      },
      "source": [
        "#binomial(20,0.3)\n",
        "print(20*0.3) #expected value\n",
        "x = st.binom.rvs(20,0.3,size=1000)\n",
        "print(np.sum(x)/1000) #average value in simulation"
      ],
      "execution_count": null,
      "outputs": [
        {
          "output_type": "stream",
          "text": [
            "6.0\n",
            "6.062\n"
          ],
          "name": "stdout"
        }
      ]
    },
    {
      "cell_type": "code",
      "metadata": {
        "colab": {
          "base_uri": "https://localhost:8080/"
        },
        "id": "iLm8Df4Ha79D",
        "outputId": "30fa3a4e-cfe6-4510-a540-14f470c157a2"
      },
      "source": [
        "#geometric(0.3)\n",
        "print(1/0.3) #expected value\n",
        "x = st.geom.rvs(0.3,size=1000)\n",
        "print(np.sum(x)/1000) #average value in simulation"
      ],
      "execution_count": null,
      "outputs": [
        {
          "output_type": "stream",
          "text": [
            "3.3333333333333335\n",
            "3.276\n"
          ],
          "name": "stdout"
        }
      ]
    },
    {
      "cell_type": "code",
      "metadata": {
        "colab": {
          "base_uri": "https://localhost:8080/"
        },
        "id": "uh-L-d-mbPeA",
        "outputId": "290e5fe1-38db-4d49-f8d0-ca66fd290902"
      },
      "source": [
        "#Poisson(6)\n",
        "print(6) #expected value\n",
        "x = st.poisson.rvs(6,size=1000)\n",
        "print(np.sum(x)/1000) #average value in simulation"
      ],
      "execution_count": null,
      "outputs": [
        {
          "output_type": "stream",
          "text": [
            "6\n",
            "6.029\n"
          ],
          "name": "stdout"
        }
      ]
    },
    {
      "cell_type": "markdown",
      "metadata": {
        "id": "DehsyaxrFX91"
      },
      "source": [
        "# Balls and bins\n",
        "Suppose $m$ balls are thrown independently and uniformly at random into $n$ bins. We will compute the expected number of empty bins by simulation and compare with the theoretical value of $n(1-1/n)^m\\approx ne^{-m/n}$."
      ]
    },
    {
      "cell_type": "code",
      "metadata": {
        "colab": {
          "base_uri": "https://localhost:8080/"
        },
        "id": "PfBJTeIxGbCo",
        "outputId": "a784c29a-9490-44cc-e607-564c8a35d6b5"
      },
      "source": [
        "m = 10; n = 3\n",
        "print(n*((1-1/n)**m)) #expected value\n",
        "avg_empty_bins = 0\n",
        "for i in range(1000):\n",
        "  no_balls = np.zeros(n, dtype=int) #keep track of balls in bins\n",
        "  for ball in range(m):\n",
        "    bin = uniform(n, 1)\n",
        "    no_balls[bin-1] += 1\n",
        "\n",
        "  no_empty_bins = 0\n",
        "  for bin in range(n):\n",
        "    if no_balls[bin] == 0:\n",
        "      no_empty_bins += 1\n",
        "\n",
        "  avg_empty_bins += no_empty_bins/1000.0\n",
        "\n",
        "print(avg_empty_bins) #average value in simulation"
      ],
      "execution_count": null,
      "outputs": [
        {
          "output_type": "stream",
          "text": [
            "0.0520245897474979\n",
            "0.05600000000000004\n"
          ],
          "name": "stdout"
        }
      ]
    },
    {
      "cell_type": "markdown",
      "metadata": {
        "id": "TNBmUJcsaxoe"
      },
      "source": [
        "# Common continuous distributions and histograms\n",
        "Scipy stats module can be used to generate samples from common continuous distributions. We will generate a number of such samples and plot their histogram to confirm that the samples follow the expected density function.\n",
        "\n",
        "For histograms, we will use the hist() function from the matplotlib.pyplot module imported below."
      ]
    },
    {
      "cell_type": "code",
      "metadata": {
        "id": "ti6FyEAvcsh1"
      },
      "source": [
        "import matplotlib.pyplot as plt"
      ],
      "execution_count": null,
      "outputs": []
    },
    {
      "cell_type": "markdown",
      "metadata": {
        "id": "67bP65pUc63P"
      },
      "source": [
        "## Uniform distribution\n",
        "We will begin with the uniform distribution."
      ]
    },
    {
      "cell_type": "code",
      "metadata": {
        "colab": {
          "base_uri": "https://localhost:8080/",
          "height": 265
        },
        "id": "Mw3bhDmNb7n0",
        "outputId": "c19f6cb5-45fe-4c28-e858-52bafa556506"
      },
      "source": [
        "x = st.uniform.rvs(0,3,size=10000)\n",
        "plt.hist(x,bins=50,range=(0,3),density=True) #blue histogram\n",
        "plt.plot([-0.2,0,0,3,3,3.2],[0,0,1.0/3,1.0/3,0,0],lw=2) #orange line. uniform[0,3] density\n",
        "plt.show()"
      ],
      "execution_count": null,
      "outputs": [
        {
          "output_type": "display_data",
          "data": {
            "image/png": "[encoded data removed]",
            "text/plain": [
              "<Figure size 432x288 with 1 Axes>"
            ]
          },
          "metadata": {
            "tags": [],
            "needs_background": "light"
          }
        }
      ]
    },
    {
      "cell_type": "markdown",
      "metadata": {
        "id": "OfbPu8akdosk"
      },
      "source": [
        "## From histogram to density\n",
        "The code above generates 10000 samples that are supposed to be independent and uniformly distributed in $[0,3]$. The histogram, created using the plt.hist command, uses 100 bins of equal width in the range $[0,3]$. So, the bins are $[0,0.03),[0.03,0.06),\\ldots,[2.97,3]$.\n",
        "\n",
        "Suppose the number of samples that fall into the bin $[0,0.03]$ is $N_0$. Then, by Monte Carlo, we have that\n",
        "$$P(0<X\\le 0.03)\\approx \\frac{N_0}{10000},$$\n",
        "where $X$ is a random variable with the sample distribution. Assuming that the density of $X$ satisfies $f_X(x)\\approx f_X(0.015)$ over the bin ($0.015$ is the midpoint of the bin), we get\n",
        "$$P(0<X\\le 0.03)\\approx 0.03f_X(0.015)\\approx\\frac{N_0}{10000}.$$\n",
        "Using the above, we get\n",
        "$$f_X(0.015)\\approx\\frac{N_0}{300}.$$\n",
        "Similarly, if $N_i$ is the number of samples in the $i$-th bin with midpoint $x_i$, we have\n",
        "$$f_X(x_i)\\approx\\frac{N_i}{300}.$$\n",
        "The option density=True in the plt.hist command specifies that the above calculation is to be done.\n",
        "\n",
        "The plt.plot command plots the expected PDF as a line plot. The parameter lw specifies the linewidth and 2 pts.\n",
        "\n",
        "Try changing the bin size to see how the plot changes. Does 50 bins look better? Why?"
      ]
    },
    {
      "cell_type": "markdown",
      "metadata": {
        "id": "eDmOvrmzlCEg"
      },
      "source": [
        "## Exponential distribution\n",
        "We will next repeat the same for $X\\sim$ Exp$(\\lambda)$. The PDF is\n",
        "$$f_X(x)=\\lambda\\exp(-\\lambda x),$$\n",
        "where $\\lambda$ is called the scale parameter. Try changing the various parameters below to see what happens."
      ]
    },
    {
      "cell_type": "code",
      "metadata": {
        "colab": {
          "base_uri": "https://localhost:8080/",
          "height": 265
        },
        "id": "5L99f2gAdreR",
        "outputId": "426c1897-6208-4c14-9664-fa11e453d456"
      },
      "source": [
        "x = st.expon.rvs(scale=1,size=10000)\n",
        "plt.hist(x,bins=50,range=(0,10),density=True) #blue histogram\n",
        "xp = np.linspace(0,10,50)\n",
        "plt.plot(xp,st.expon.pdf(xp,scale=1),lw=2) #orange line, exp(\\lambda) density\n",
        "plt.show()"
      ],
      "execution_count": null,
      "outputs": [
        {
          "output_type": "display_data",
          "data": {
            "image/png": "[encoded data removed]",
            "text/plain": [
              "<Figure size 432x288 with 1 Axes>"
            ]
          },
          "metadata": {
            "tags": [],
            "needs_background": "light"
          }
        }
      ]
    },
    {
      "cell_type": "markdown",
      "metadata": {
        "id": "AsnRN0CTmB0a"
      },
      "source": [
        "## Normal distribution\n",
        "We will repeat the same for $X\\sim$ Normal$(\\mu,\\sigma^2)$. The PDF is\n",
        "$$f_X(x)=\\frac{1}{\\sigma\\sqrt{2\\pi}}\\exp(-(x-\\mu)^2/2\\sigma^2),$$\n",
        "where the mean $\\mu$ is called the location parameter `loc' and $\\sigma$ is called the scale parameter."
      ]
    },
    {
      "cell_type": "code",
      "metadata": {
        "colab": {
          "base_uri": "https://localhost:8080/",
          "height": 265
        },
        "id": "Tv2Voiycmrav",
        "outputId": "47255165-7ac5-42a0-d057-35d93edd379b"
      },
      "source": [
        "x = st.norm.rvs(loc=0, scale=1, size=10000)\n",
        "plt.hist(x,bins=50,range=(-5,5),density=True) #blue histogram\n",
        "xp = np.linspace(-5,5,50)\n",
        "plt.plot(xp,st.norm.pdf(xp,loc=0,scale=1),lw=2) #orange line, normal pdf\n",
        "plt.show()"
      ],
      "execution_count": null,
      "outputs": [
        {
          "output_type": "display_data",
          "data": {
            "image/png": "[encoded data removed]",
            "text/plain": [
              "<Figure size 432x288 with 1 Axes>"
            ]
          },
          "metadata": {
            "tags": [],
            "needs_background": "light"
          }
        }
      ]
    },
    {
      "cell_type": "code",
      "metadata": {
        "id": "HdmZPWt1yGQc"
      },
      "source": [
        "from sklearn.datasets import load_iris"
      ],
      "execution_count": null,
      "outputs": []
    },
    {
      "cell_type": "code",
      "metadata": {
        "colab": {
          "base_uri": "https://localhost:8080/"
        },
        "id": "Z7A13G1Jybd8",
        "outputId": "34da980d-1865-4efb-ed74-478f8e06116a"
      },
      "source": [
        "iris = load_iris()\n",
        "print(iris.DESCR)"
      ],
      "execution_count": null,
      "outputs": [
        {
          "output_type": "stream",
          "text": [
            ".. _iris_dataset:\n",
            "\n",
            "Iris plants dataset\n",
            "--------------------\n",
            "\n",
            "**Data Set Characteristics:**\n",
            "\n",
            "    :Number of Instances: 150 (50 in each of three classes)\n",
            "    :Number of Attributes: 4 numeric, predictive attributes and the class\n",
            "    :Attribute Information:\n",
            "        - sepal length in cm\n",
            "        - sepal width in cm\n",
            "        - petal length in cm\n",
            "        - petal width in cm\n",
            "        - class:\n",
            "                - Iris-Setosa\n",
            "                - Iris-Versicolour\n",
            "                - Iris-Virginica\n",
            "                \n",
            "    :Summary Statistics:\n",
            "\n",
            "    ============== ==== ==== ======= ===== ====================\n",
            "                    Min  Max   Mean    SD   Class Correlation\n",
            "    ============== ==== ==== ======= ===== ====================\n",
            "    sepal length:   4.3  7.9   5.84   0.83    0.7826\n",
            "    sepal width:    2.0  4.4   3.05   0.43   -0.4194\n",
            "    petal length:   1.0  6.9   3.76   1.76    0.9490  (high!)\n",
            "    petal width:    0.1  2.5   1.20   0.76    0.9565  (high!)\n",
            "    ============== ==== ==== ======= ===== ====================\n",
            "\n",
            "    :Missing Attribute Values: None\n",
            "    :Class Distribution: 33.3% for each of 3 classes.\n",
            "    :Creator: R.A. Fisher\n",
            "    :Donor: Michael Marshall (MARSHALL%PLU@io.arc.nasa.gov)\n",
            "    :Date: July, 1988\n",
            "\n",
            "The famous Iris database, first used by Sir R.A. Fisher. The dataset is taken\n",
            "from Fisher's paper. Note that it's the same as in R, but not as in the UCI\n",
            "Machine Learning Repository, which has two wrong data points.\n",
            "\n",
            "This is perhaps the best known database to be found in the\n",
            "pattern recognition literature.  Fisher's paper is a classic in the field and\n",
            "is referenced frequently to this day.  (See Duda & Hart, for example.)  The\n",
            "data set contains 3 classes of 50 instances each, where each class refers to a\n",
            "type of iris plant.  One class is linearly separable from the other 2; the\n",
            "latter are NOT linearly separable from each other.\n",
            "\n",
            ".. topic:: References\n",
            "\n",
            "   - Fisher, R.A. \"The use of multiple measurements in taxonomic problems\"\n",
            "     Annual Eugenics, 7, Part II, 179-188 (1936); also in \"Contributions to\n",
            "     Mathematical Statistics\" (John Wiley, NY, 1950).\n",
            "   - Duda, R.O., & Hart, P.E. (1973) Pattern Classification and Scene Analysis.\n",
            "     (Q327.D83) John Wiley & Sons.  ISBN 0-471-22361-1.  See page 218.\n",
            "   - Dasarathy, B.V. (1980) \"Nosing Around the Neighborhood: A New System\n",
            "     Structure and Classification Rule for Recognition in Partially Exposed\n",
            "     Environments\".  IEEE Transactions on Pattern Analysis and Machine\n",
            "     Intelligence, Vol. PAMI-2, No. 1, 67-71.\n",
            "   - Gates, G.W. (1972) \"The Reduced Nearest Neighbor Rule\".  IEEE Transactions\n",
            "     on Information Theory, May 1972, 431-433.\n",
            "   - See also: 1988 MLC Proceedings, 54-64.  Cheeseman et al\"s AUTOCLASS II\n",
            "     conceptual clustering system finds 3 classes in the data.\n",
            "   - Many, many more ...\n"
          ],
          "name": "stdout"
        }
      ]
    },
    {
      "cell_type": "code",
      "metadata": {
        "colab": {
          "base_uri": "https://localhost:8080/",
          "height": 302
        },
        "id": "NOOoXNjxyhvO",
        "outputId": "09e6bd1c-73ac-4137-e3d5-35956ddaba28"
      },
      "source": [
        "plt.subplot(221)\n",
        "plt.hist(iris.data[:50,0])\n",
        "plt.xlim([0,6])\n",
        "plt.title('SL')\n",
        "plt.subplot(222)\n",
        "plt.hist(iris.data[:50,1])\n",
        "plt.xlim([0,6])\n",
        "plt.title('SW')\n",
        "plt.subplot(223)\n",
        "plt.hist(iris.data[:50,2])\n",
        "plt.xlim([0,6])\n",
        "plt.title('PL')\n",
        "plt.subplot(224)\n",
        "plt.hist(iris.data[:50,3])\n",
        "plt.xlim([0,6])\n",
        "plt.title('PW')\n",
        "plt.suptitle('Class 0')\n",
        "plt.tight_layout()\n",
        "plt.show()"
      ],
      "execution_count": null,
      "outputs": [
        {
          "output_type": "display_data",
          "data": {
            "image/png": "[encoded data removed]",
            "text/plain": [
              "<Figure size 432x288 with 4 Axes>"
            ]
          },
          "metadata": {
            "tags": [],
            "needs_background": "light"
          }
        }
      ]
    },
    {
      "cell_type": "markdown",
      "metadata": {
        "id": "keFISLGN57UC"
      },
      "source": [
        "<h1>Toss a coin</h1>\n",
        "Our data will be generated by flipping a coin 10 times and counting how many times we get heads. We will call a set of 10 coin tosses a trial. Our data point will be the number of heads we observe. We may not get the “ideal” 5 heads, but we won’t worry too much since one trial is only one data point. If we perform many, many trials, we expect the average number of heads over all of our trials to approach the 50%. The code below simulates 5, 10, 500 and 1000 trials, and then calculates the average proportion of heads observed."
      ]
    },
    {
      "cell_type": "code",
      "metadata": {
        "id": "Soph1oiSZekb"
      },
      "source": [
        "import random\n",
        "def coin_trial():\n",
        "  heads = 0\n",
        "  for i in range(100):\n",
        "    if random.random() <= 0.5:\n",
        "      heads +=1\n",
        "      return heads\n",
        "def simulate(n):\n",
        "  trials = []\n",
        "  for i in range(n):\n",
        "    trials.append(coin_trial())\n",
        "    return(sum(trials)/n)"
      ],
      "execution_count": null,
      "outputs": []
    },
    {
      "cell_type": "markdown",
      "metadata": {
        "id": "Em8SUsdNggq_"
      },
      "source": [
        "The coin_trial function is what represents a simulation of 10 coin tosses. It uses the random() function to generate a float between 0 and 1, and increments our heads count if it’s within half of that range. Then, simulate repeats these trials depending on how many times you’d like, returning the average number of heads across all of the trials. The coin toss simulations give us some interesting results."
      ]
    },
    {
      "cell_type": "code",
      "metadata": {
        "colab": {
          "base_uri": "https://localhost:8080/"
        },
        "id": "PynQaEiqlfIN",
        "outputId": "0dcb27d9-23e4-42b0-f19c-bb3f65b42041"
      },
      "source": [
        "simulate(5)"
      ],
      "execution_count": null,
      "outputs": [
        {
          "output_type": "execute_result",
          "data": {
            "text/plain": [
              "0.2"
            ]
          },
          "metadata": {
            "tags": []
          },
          "execution_count": 10
        }
      ]
    },
    {
      "cell_type": "code",
      "metadata": {
        "colab": {
          "base_uri": "https://localhost:8080/"
        },
        "id": "2uKN9xS7gfb_",
        "outputId": "0ddf8d23-c09a-471d-8bd6-09cb207e0831"
      },
      "source": [
        "simulate(10)"
      ],
      "execution_count": null,
      "outputs": [
        {
          "output_type": "execute_result",
          "data": {
            "text/plain": [
              "0.1"
            ]
          },
          "metadata": {
            "tags": []
          },
          "execution_count": 11
        }
      ]
    },
    {
      "cell_type": "code",
      "metadata": {
        "colab": {
          "base_uri": "https://localhost:8080/"
        },
        "id": "4bXp7jkCg_0d",
        "outputId": "87140f7c-5c42-437e-a362-31e9bbb2f1d4"
      },
      "source": [
        "simulate(500)"
      ],
      "execution_count": null,
      "outputs": [
        {
          "output_type": "execute_result",
          "data": {
            "text/plain": [
              "0.002"
            ]
          },
          "metadata": {
            "tags": []
          },
          "execution_count": 12
        }
      ]
    },
    {
      "cell_type": "code",
      "metadata": {
        "colab": {
          "base_uri": "https://localhost:8080/"
        },
        "id": "zekLXxfTlf29",
        "outputId": "aaf0cfc9-2ec1-43e1-8c33-ad78e7d709db"
      },
      "source": [
        "simulate(1000)"
      ],
      "execution_count": null,
      "outputs": [
        {
          "output_type": "execute_result",
          "data": {
            "text/plain": [
              "0.001"
            ]
          },
          "metadata": {
            "tags": []
          },
          "execution_count": 13
        }
      ]
    }
  ]
}