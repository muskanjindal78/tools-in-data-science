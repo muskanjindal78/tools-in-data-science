{
  "nbformat": 4,
  "nbformat_minor": 0,
  "metadata": {
    "colab": {
      "provenance": [],
      "collapsed_sections": [
        "uBUor5KWp3_Q",
        "FSDbBz7ucm_a",
        "5eh8cI4PeVEb"
      ]
    },
    "kernelspec": {
      "name": "python3",
      "display_name": "Python 3"
    },
    "language_info": {
      "name": "python"
    }
  },
  "cells": [
    {
      "cell_type": "markdown",
      "source": [
        "## Importing the libraries"
      ],
      "metadata": {
        "id": "WT2nf7VJXHsH"
      }
    },
    {
      "cell_type": "code",
      "execution_count": 2,
      "metadata": {
        "id": "0kgvCN0n3_1p"
      },
      "outputs": [],
      "source": [
        "import numpy as np\n",
        "import matplotlib.pyplot as plt"
      ]
    },
    {
      "cell_type": "markdown",
      "source": [
        "This has two sections:\n",
        "* Linear Regression\n",
        "* Kernel Regression\n",
        "\n",
        "\n"
      ],
      "metadata": {
        "id": "iBY90BqPXO31"
      }
    },
    {
      "cell_type": "markdown",
      "source": [
        "# Section 1:\n",
        "\n",
        "**Linear Regression**"
      ],
      "metadata": {
        "id": "X1nmn2q15Vzn"
      }
    },
    {
      "cell_type": "markdown",
      "source": [
        "We will use the Boston_housing dataset for the regression problem. Run the below cell to get the following variables:\n",
        "* `Training_data` = Training data matrix of shape $(n, d)$\n",
        "* `labels` = label vector corresponding to the training data\n",
        "* `test_data` = Test data matrix of shape $(n_1, d)$ where $n_1$ is the number of examples in test dataset.\n",
        "* `test_labels` = label vector corresponding to the test data\n",
        "\n",
        "Use this dataset for the regression problem."
      ],
      "metadata": {
        "id": "aComJ_Fd5dnI"
      }
    },
    {
      "cell_type": "code",
      "source": [
        "from keras.datasets import boston_housing\n",
        "Train, test = boston_housing.load_data(seed= 111)\n",
        "Training_data, labels = Train[0], Train[1]\n",
        "Test_data, test_labels = test[0], test[1]"
      ],
      "metadata": {
        "id": "53UCtcH64nsC",
        "colab": {
          "base_uri": "https://localhost:8080/"
        },
        "outputId": "d00622e3-490b-4142-8fbf-ee859748cf83"
      },
      "execution_count": 3,
      "outputs": [
        {
          "output_type": "stream",
          "name": "stdout",
          "text": [
            "Downloading data from https://storage.googleapis.com/tensorflow/tf-keras-datasets/boston_housing.npz\n",
            "\u001b[1m57026/57026\u001b[0m \u001b[32m━━━━━━━━━━━━━━━━━━━━\u001b[0m\u001b[37m\u001b[0m \u001b[1m0s\u001b[0m 0us/step\n"
          ]
        }
      ]
    },
    {
      "cell_type": "markdown",
      "source": [
        "## Question 1\n",
        "How many examples are there in the training dataset?\n",
        "\n"
      ],
      "metadata": {
        "id": "R0Dnj-Qha47p"
      }
    },
    {
      "cell_type": "code",
      "source": [
        "Training_data.shape[0]"
      ],
      "metadata": {
        "id": "vpLeerN2mGRi",
        "colab": {
          "base_uri": "https://localhost:8080/"
        },
        "outputId": "21762590-ab16-4bf6-c1e0-81f6845189ae"
      },
      "execution_count": 4,
      "outputs": [
        {
          "output_type": "execute_result",
          "data": {
            "text/plain": [
              "404"
            ]
          },
          "metadata": {},
          "execution_count": 4
        }
      ]
    },
    {
      "cell_type": "markdown",
      "source": [
        "## Question 2\n",
        "How many examples are there in the test dataset?\n",
        "\n"
      ],
      "metadata": {
        "id": "ChYFPOV5b5jZ"
      }
    },
    {
      "cell_type": "code",
      "source": [
        "Test_data.shape[0]"
      ],
      "metadata": {
        "id": "0XK7s98bb8PY",
        "colab": {
          "base_uri": "https://localhost:8080/"
        },
        "outputId": "b9e2c429-3599-40ac-e9bf-b0dd60f851c7"
      },
      "execution_count": 5,
      "outputs": [
        {
          "output_type": "execute_result",
          "data": {
            "text/plain": [
              "102"
            ]
          },
          "metadata": {},
          "execution_count": 5
        }
      ]
    },
    {
      "cell_type": "markdown",
      "source": [
        "## Question 3\n",
        "\n",
        "How many features are there in the dataset?\n",
        "\n"
      ],
      "metadata": {
        "id": "ZYLLXlAacL5c"
      }
    },
    {
      "cell_type": "code",
      "source": [
        "Training_data.shape[1]"
      ],
      "metadata": {
        "id": "rGvr9_jkO7NA",
        "colab": {
          "base_uri": "https://localhost:8080/"
        },
        "outputId": "80632494-70f9-4af9-e1ff-950ea702b8f3"
      },
      "execution_count": 6,
      "outputs": [
        {
          "output_type": "execute_result",
          "data": {
            "text/plain": [
              "13"
            ]
          },
          "metadata": {},
          "execution_count": 6
        }
      ]
    },
    {
      "cell_type": "markdown",
      "source": [
        "Linear regression model for the dataset ${\\mathbb{x}, y}$ is given as\n",
        "$$h_w(\\mathbb{x}) = w_1x^{1}+w_2x^{2}+...+w_dx^{d} =  \\mathbb{x}^Tw\n",
        "$$\n",
        "\n",
        "where $x^{i}$ is the $i^{th}$ feature, $\\mathbb{x}$ is the feature matrix of shape $(d, n)$ and $w = [w_1, w_2, ...w_d]^T$ is the weight vector.\n",
        "\n",
        "\n",
        "Notice that above model always pass through the origin but for a given dataset, best fit model need not pass through the origin. To tackle this issue, we add an intercept $w_0$ in the model and set the corresponding featrue $x^{0}$ to $1$. That is\n",
        "\n",
        "$$h_w(\\mathbb{x}) =w_0x^{0}+ w_1x^{1}+w_2x^{2}+...+w_dx^{n} =  \\mathbb{x}^Tw\n",
        "$$\n",
        "\n",
        "We call $x^{0}$ the dummy feature and set its value to 1 for each examples. Now $w$ is of shape $(d+1, 1)$ and $\\mathbb{x}$ is of shape $(d+1, n)$ where the first row of $\\mathbb{x}$ has entries as 1.\n"
      ],
      "metadata": {
        "id": "KmF4HhMmhx9R"
      }
    },
    {
      "cell_type": "markdown",
      "source": [
        "## Task\n",
        "\n",
        "Add the dummy feature in the feature matrix `Training_data` and test data matrix `test_data`. We will be using this new feature matrices (after adding te dummy feature) for learning the model.\n",
        "\n",
        "Note: As per your convenience, you can convert the shape of the training dataset to $(d, n)$."
      ],
      "metadata": {
        "id": "kN5fsfqfmX_w"
      }
    },
    {
      "cell_type": "code",
      "source": [
        "# Add a column of ones (dummy feature) to Training_data and test_data\n",
        "Training_data = np.c_[np.ones(Training_data.shape[0]), Training_data]\n",
        "Test_data = np.c_[np.ones(Test_data.shape[0]), Test_data]\n",
        "\n",
        "# Transpose the matrices to (d, n) shape\n",
        "Training_data = Training_data.T\n",
        "Test_data = Test_data.T\n",
        "\n",
        "# Verify the new shapes\n",
        "print(\"Training data shape:\", Training_data.shape)\n",
        "print(\"Test data shape:\", Test_data.shape)"
      ],
      "metadata": {
        "id": "wic4nhW47fOv",
        "colab": {
          "base_uri": "https://localhost:8080/"
        },
        "outputId": "804dc21e-e73f-479b-de14-c9dfec7e093c"
      },
      "execution_count": 7,
      "outputs": [
        {
          "output_type": "stream",
          "name": "stdout",
          "text": [
            "Training data shape: (14, 404)\n",
            "Test data shape: (14, 102)\n"
          ]
        }
      ]
    },
    {
      "cell_type": "markdown",
      "source": [
        "## Question 4\n",
        "If the solution of optimization problem is obtained by setting the first derivative of loss function (squared loss) to zero, find the value of $w_0+w_1+...w_d$.\n",
        "\n",
        "\n"
      ],
      "metadata": {
        "id": "sK4oWgqCnzgc"
      }
    },
    {
      "cell_type": "code",
      "source": [
        "# Define the target values\n",
        "train_targets = Train[1]\n",
        "test_targets = test[1]\n",
        "\n",
        "# Calculate the coefficients (w) using the normal equation\n",
        "w = np.linalg.inv(Training_data @ Training_data.T) @ Training_data @ train_targets\n",
        "\n",
        "# Calculate the sum of coefficients\n",
        "sum_of_coefficients = np.sum(w)\n",
        "\n",
        "print(\"Sum of coefficients (w0 + w1 + ... + wd):\", sum_of_coefficients)"
      ],
      "metadata": {
        "id": "JORYNRkdOo55",
        "colab": {
          "base_uri": "https://localhost:8080/"
        },
        "outputId": "2cd8c748-0e69-412e-ef5d-1fca1325352a"
      },
      "execution_count": 8,
      "outputs": [
        {
          "output_type": "stream",
          "name": "stdout",
          "text": [
            "Sum of coefficients (w0 + w1 + ... + wd): 20.524582464658266\n"
          ]
        }
      ]
    },
    {
      "cell_type": "markdown",
      "source": [
        "## Question 5\n",
        "Find the average of the predictions made by the above model.\n",
        "\n"
      ],
      "metadata": {
        "id": "uBUor5KWp3_Q"
      }
    },
    {
      "cell_type": "code",
      "source": [
        "# Calculate the predictions using the test data and coefficients (w)\n",
        "predictions = np.dot(Test_data.T, w)\n",
        "\n",
        "# Calculate the average of the predictions\n",
        "average_prediction = np.mean(predictions)\n",
        "\n",
        "print(\"Average of the predictions:\", average_prediction)"
      ],
      "metadata": {
        "id": "O2vF1aE2Rxfs",
        "colab": {
          "base_uri": "https://localhost:8080/"
        },
        "outputId": "2489f211-27a5-4b73-b6db-1aada730f569"
      },
      "execution_count": 9,
      "outputs": [
        {
          "output_type": "stream",
          "name": "stdout",
          "text": [
            "Average of the predictions: 24.168028424007513\n"
          ]
        }
      ]
    },
    {
      "cell_type": "markdown",
      "source": [
        "## Question 6\n",
        "\n",
        "Find the loss for the training data points using the above model. Consider the loss to be defined as\n",
        "\n",
        "$$ \\sqrt{\\dfrac{1}{n}\\sum\\limits_{i=1}^{n} (y_i- \\hat{y}_i)^2}\n",
        "$$\n",
        "\n",
        "Where $\\hat{y}_i$ is the prediction for $i^{th}$ data point.\n",
        "\n"
      ],
      "metadata": {
        "id": "FSDbBz7ucm_a"
      }
    },
    {
      "cell_type": "code",
      "source": [
        "\n",
        "# Calculate the predictions for the training data using the model\n",
        "train_predictions = np.dot(Training_data.T, w)\n",
        "\n",
        "# Calculate the squared loss for each data point\n",
        "squared_loss = (train_targets - train_predictions) ** 2\n",
        "\n",
        "# Calculate the total loss\n",
        "total_loss = np.sum(squared_loss)\n",
        "\n",
        "print(\"Total loss for the training data:\", total_loss)"
      ],
      "metadata": {
        "id": "F4jRui2VSeDt",
        "colab": {
          "base_uri": "https://localhost:8080/"
        },
        "outputId": "236fcdad-18bd-4ed9-91dc-923e2afa2e43"
      },
      "execution_count": 10,
      "outputs": [
        {
          "output_type": "stream",
          "name": "stdout",
          "text": [
            "Total loss for the training data: 8372.59143609235\n"
          ]
        }
      ]
    },
    {
      "cell_type": "markdown",
      "source": [
        "## Question 7\n",
        "\n",
        "Find the loss for the test data points using the above model. Consider the loss to be defined as\n",
        "\n",
        "$$ \\sqrt{\\dfrac{1}{n}\\sum\\limits_{i=1}^{n} (y_i- \\hat{y}_i)^2}\n",
        "$$\n",
        "\n",
        "Where $\\hat{y}_i$ is the prediction for $i^{th}$ data point.\n",
        "\n"
      ],
      "metadata": {
        "id": "5eh8cI4PeVEb"
      }
    },
    {
      "cell_type": "code",
      "source": [
        "# Calculate the predictions for the test data using the model\n",
        "test_predictions = np.dot(Test_data.T, w)\n",
        "\n",
        "# Calculate the squared loss for each test data point\n",
        "squared_loss_test = (test_targets - test_predictions) ** 2\n",
        "\n",
        "# Calculate the total loss for the test data\n",
        "total_loss_test = np.sum(squared_loss_test)\n",
        "\n",
        "print(\"Total loss for the test data:\", total_loss_test)"
      ],
      "metadata": {
        "id": "vBMCgEIBU6v5",
        "colab": {
          "base_uri": "https://localhost:8080/"
        },
        "outputId": "09a76c48-5f64-4c99-b428-4b470ae9cb44"
      },
      "execution_count": 11,
      "outputs": [
        {
          "output_type": "stream",
          "name": "stdout",
          "text": [
            "Total loss for the test data: 2895.166438352402\n"
          ]
        }
      ]
    },
    {
      "cell_type": "markdown",
      "source": [
        "## Question 8\n",
        "Find the weights using the gradient descent. Use a constant learning rate of $\\eta = 10^{-10}$. Initialize the weight vector as zero vector and update the weights for 100 iterations. Enter the sum of all the weights.\n",
        "\n"
      ],
      "metadata": {
        "id": "NkeClcplfJLK"
      }
    },
    {
      "cell_type": "code",
      "source": [
        "# Initialize the weight vector as a zero vector\n",
        "w = np.zeros(Training_data.shape[0])\n",
        "\n",
        "# Learning rate\n",
        "eta = 1e-10\n",
        "\n",
        "# Number of iterations\n",
        "num_iterations = 100\n",
        "\n",
        "# Perform gradient descent\n",
        "for _ in range(num_iterations):\n",
        "    # Calculate the predictions\n",
        "    predictions = np.dot(w, Training_data)\n",
        "\n",
        "    # Calculate the gradient of the loss with respect to the weights\n",
        "    gradient = -2 * np.dot(Training_data, (train_targets - predictions))\n",
        "\n",
        "    # Update the weights\n",
        "    w -= eta * gradient\n",
        "\n",
        "# Calculate the sum of all the weights\n",
        "sum_of_weights = np.sum(w)\n",
        "\n",
        "print(\"Sum of all the weights:\", sum_of_weights)"
      ],
      "metadata": {
        "id": "QbpyGnfgWEqj",
        "colab": {
          "base_uri": "https://localhost:8080/"
        },
        "outputId": "4046d0e0-9a74-4881-de9b-d15aa814a999"
      },
      "execution_count": 12,
      "outputs": [
        {
          "output_type": "stream",
          "name": "stdout",
          "text": [
            "Sum of all the weights: 0.0589590611959026\n"
          ]
        }
      ]
    },
    {
      "cell_type": "markdown",
      "source": [
        "## Question 9\n",
        "\n",
        "Find the loss for the training data points if the model is learnt using the gradient descent as in question 8. Consider the loss to be defined as\n",
        "\n",
        "$$ \\sqrt{\\dfrac{1}{n}\\sum\\limits_{i=1}^{n} (y_i- \\hat{y}_i)^2}\n",
        "$$\n",
        "\n",
        "Where $\\hat{y}_i$ is the prediction for $i^{th}$ data point.\n",
        "\n"
      ],
      "metadata": {
        "id": "78ApH0oAg96X"
      }
    },
    {
      "cell_type": "code",
      "source": [
        "# Calculate the predictions for the training data using the learned model\n",
        "train_predictions = np.dot(w, Training_data)\n",
        "\n",
        "# Calculate the squared loss for each training data point\n",
        "squared_loss_train = (train_targets - train_predictions) ** 2\n",
        "\n",
        "# Calculate the total loss for the training data\n",
        "total_loss_train = np.sum(squared_loss_train)\n",
        "\n",
        "print(\"Total loss for the training data after gradient descent:\", total_loss_train)"
      ],
      "metadata": {
        "id": "oI1yIf9N8la7",
        "colab": {
          "base_uri": "https://localhost:8080/"
        },
        "outputId": "e298b183-d89c-48f6-cdb8-e7be55acb01a"
      },
      "execution_count": 13,
      "outputs": [
        {
          "output_type": "stream",
          "name": "stdout",
          "text": [
            "Total loss for the training data after gradient descent: 50111.69748305857\n"
          ]
        }
      ]
    },
    {
      "cell_type": "markdown",
      "source": [
        "## Question 10\n",
        "\n",
        "Find the loss for the test data points if the model is learnt using the gradient descent as in question 8. Consider the loss to be defined as\n",
        "\n",
        "$$ \\sqrt{\\dfrac{1}{n}\\sum\\limits_{i=1}^{n} (y_i- \\hat{y}_i)^2}\n",
        "$$\n",
        "\n",
        "Where $\\hat{y}_i$ is the prediction for $i^{th}$ data point.\n",
        "\n"
      ],
      "metadata": {
        "id": "FA7UKT1Y3PXa"
      }
    },
    {
      "cell_type": "code",
      "source": [
        "# Calculate the predictions for the test data using the model learned through gradient descent\n",
        "test_predictions = np.dot(w, Test_data)\n",
        "\n",
        "# Calculate the squared loss for each test data point\n",
        "squared_loss_test = (test_targets - test_predictions) ** 2\n",
        "\n",
        "# Calculate the total loss for the test data\n",
        "total_loss_test = np.sum(squared_loss_test)\n",
        "\n",
        "print(\"Total loss for the test data with gradient descent:\", total_loss_test)"
      ],
      "metadata": {
        "id": "tevVzIIj3SZj",
        "colab": {
          "base_uri": "https://localhost:8080/"
        },
        "outputId": "335437ad-2d92-4534-8ead-c2a8b8c905af"
      },
      "execution_count": 14,
      "outputs": [
        {
          "output_type": "stream",
          "name": "stdout",
          "text": [
            "Total loss for the test data with gradient descent: 12262.446974014316\n"
          ]
        }
      ]
    },
    {
      "cell_type": "markdown",
      "source": [
        "## Question 11\n",
        "Find the weights using the stochastic gradient descent. Use a constant learning rate of $\\eta = 10^{-8}$. Initialize the weight vector as zero vector and update the weights for 1000 iterations. . Take the batch size of $⌈\\text{number of samples}/5⌉ $. For sampling the batch examples in $ith$ iteration, set seed at $i$. The final weight is the last updated weight. Do not take the avearge of weights updated in all the iterations. Enter the sum of all the weights.\n",
        "\n",
        "\n"
      ],
      "metadata": {
        "id": "-AoLsBKc31Ul"
      }
    },
    {
      "cell_type": "code",
      "source": [
        "# Initialize the weight vector as a zero vector\n",
        "w = np.zeros(Training_data.shape[0])\n",
        "\n",
        "# Learning rate\n",
        "eta = 1e-8\n",
        "\n",
        "# Number of iterations\n",
        "num_iterations = 1000\n",
        "\n",
        "# Batch size\n",
        "batch_size = np.ceil(Training_data.shape[1] / 5).astype(int)\n",
        "\n",
        "# Perform stochastic gradient descent\n",
        "for iteration in range(num_iterations):\n",
        "    # Set the random seed based on the iteration number\n",
        "    np.random.seed(iteration)\n",
        "\n",
        "    # Shuffle the data and labels in the same way\n",
        "    random_order = np.random.permutation(Training_data.shape[1])\n",
        "    shuffled_data = Training_data[:, random_order]\n",
        "    shuffled_labels = train_targets[random_order]\n",
        "\n",
        "    for batch_start in range(0, Training_data.shape[1], batch_size):\n",
        "        # Get a batch of data and labels\n",
        "        batch_data = shuffled_data[:, batch_start:batch_start + batch_size]\n",
        "        batch_labels = shuffled_labels[batch_start:batch_start + batch_size]\n",
        "\n",
        "        # Calculate the predictions for the batch\n",
        "        batch_predictions = np.dot(w, batch_data)\n",
        "\n",
        "        # Calculate the gradient of the loss with respect to the weights for the batch\n",
        "        gradient = -2 * np.dot(batch_data, (batch_labels - batch_predictions))\n",
        "\n",
        "        # Update the weights for the batch\n",
        "        w -= eta * gradient\n",
        "\n",
        "# Calculate the sum of all the weights\n",
        "sum_of_weights = np.sum(w)\n",
        "\n",
        "print(\"Sum of all the weights after SGD with batching:\", sum_of_weights)"
      ],
      "metadata": {
        "id": "R4odop9yF9VY",
        "colab": {
          "base_uri": "https://localhost:8080/"
        },
        "outputId": "3f258937-0551-4187-bf04-b8bc605f49ee"
      },
      "execution_count": 15,
      "outputs": [
        {
          "output_type": "stream",
          "name": "stdout",
          "text": [
            "Sum of all the weights after SGD with batching: 0.09252385789900144\n"
          ]
        }
      ]
    },
    {
      "cell_type": "markdown",
      "source": [
        "## Question 12\n",
        "\n",
        "Find the loss for the training data points if the model is learnt using the stochastic gradient descent as in question 11. Consider the loss to be defined as\n",
        "\n",
        "$$ \\sqrt{\\dfrac{1}{n}\\sum\\limits_{i=1}^{n} (y_i- \\hat{y}_i)^2}\n",
        "$$\n",
        "\n",
        "Where $\\hat{y}_i$ is the prediction for $i^{th}$ data point.\n",
        "\n"
      ],
      "metadata": {
        "id": "yPzJLciH4NrV"
      }
    },
    {
      "cell_type": "code",
      "source": [
        "# Calculate the predictions for the training data using the model learned through stochastic gradient descent\n",
        "train_predictions = np.dot(w, Training_data)\n",
        "\n",
        "# Calculate the squared loss for each training data point\n",
        "squared_loss_train = (train_targets - train_predictions) ** 2\n",
        "\n",
        "# Calculate the total loss for the training data\n",
        "total_loss_train = np.sum(squared_loss_train)\n",
        "\n",
        "print(\"Total loss for the training data with SGD:\", total_loss_train)"
      ],
      "metadata": {
        "id": "w9usLAPeLNkt",
        "colab": {
          "base_uri": "https://localhost:8080/"
        },
        "outputId": "6e989de0-362d-4fd9-9c13-c0649f6c43fc"
      },
      "execution_count": 16,
      "outputs": [
        {
          "output_type": "stream",
          "name": "stdout",
          "text": [
            "Total loss for the training data with SGD: 26312.45255282104\n"
          ]
        }
      ]
    },
    {
      "cell_type": "markdown",
      "source": [
        "## Question 13\n",
        "\n",
        "Find the loss for the test data points if the model is learnt using the stochastic gradient descent as in question 11. Consider the loss to be defined as\n",
        "\n",
        "$$ \\sqrt{\\dfrac{1}{n}\\sum\\limits_{i=1}^{n} (y_i- \\hat{y}_i)^2}\n",
        "$$\n",
        "\n",
        "Where $\\hat{y}_i$ is the prediction for $i^{th}$ data point.\n"
      ],
      "metadata": {
        "id": "rfeamQM94x_N"
      }
    },
    {
      "cell_type": "code",
      "source": [
        "# Calculate the predictions for the test data using the model learned through stochastic gradient descent\n",
        "test_predictions = np.dot(w, Test_data)\n",
        "\n",
        "# Calculate the squared loss for each test data point\n",
        "squared_loss_test = (test_targets - test_predictions) ** 2\n",
        "\n",
        "# Calculate the total loss for the test data\n",
        "total_loss_test = np.sum(squared_loss_test)\n",
        "\n",
        "print(\"Total loss for the test data with SGD:\", total_loss_test)"
      ],
      "metadata": {
        "id": "oF1xpNH845iH",
        "colab": {
          "base_uri": "https://localhost:8080/"
        },
        "outputId": "b00b290e-87f6-4302-df25-a95ed7e1231d"
      },
      "execution_count": 17,
      "outputs": [
        {
          "output_type": "stream",
          "name": "stdout",
          "text": [
            "Total loss for the test data with SGD: 6313.029972443225\n"
          ]
        }
      ]
    },
    {
      "cell_type": "markdown",
      "source": [
        "# Section 2:\n",
        "\n",
        "**kernel Regression**"
      ],
      "metadata": {
        "id": "muMOKLvY5D9O"
      }
    },
    {
      "cell_type": "markdown",
      "source": [
        "We will generate the synthetic dataset for the kernel regression problem. Run the following cell to get the following variables:\n",
        "\n",
        "`X` = Training data matrix of shape $(n, d)$. In the given dataset $d = 1$.\n",
        "\n",
        "`y` = label vector corresponding to the training dataset"
      ],
      "metadata": {
        "id": "pDAKRJua6rCU"
      }
    },
    {
      "cell_type": "code",
      "source": [
        "rng = np.random.default_rng(seed = 101)\n",
        "X = np.arange(-2, 2, 0.01).reshape(-1, 1)\n",
        "y = X**3 + rng.normal(0, 1, X.shape[0]).reshape(-1, 1)\n"
      ],
      "metadata": {
        "id": "_WgICXZSnra0"
      },
      "execution_count": 18,
      "outputs": []
    },
    {
      "cell_type": "markdown",
      "source": [
        "## Question 14\n",
        "\n",
        "Plot the scatter plot between feature and the labels. Enter your answer as 0.\n",
        "\n"
      ],
      "metadata": {
        "id": "y_-9lyPm8aaj"
      }
    },
    {
      "cell_type": "code",
      "source": [
        "# Create the scatter plot\n",
        "plt.scatter(X, y, label='Data Points', s=10)  # s is the size of the points\n",
        "plt.title('Scatter Plot of Feature vs. Label')\n",
        "plt.xlabel('Feature (X)')\n",
        "plt.ylabel('Label (y)')\n",
        "plt.legend()\n",
        "plt.grid(True)\n",
        "plt.show()"
      ],
      "metadata": {
        "id": "B12Nc2Sv80_s",
        "colab": {
          "base_uri": "https://localhost:8080/",
          "height": 472
        },
        "outputId": "687ee42e-5809-498a-979b-163b0cd72217"
      },
      "execution_count": 19,
      "outputs": [
        {
          "output_type": "display_data",
          "data": {
            "text/plain": [
              "<Figure size 640x480 with 1 Axes>"
            ],
            "image/png": "[encoded data removed]"
          },
          "metadata": {}
        }
      ]
    },
    {
      "cell_type": "markdown",
      "source": [
        "## Question 15\n",
        "How many examples are there in the training dataset?\n",
        "\n"
      ],
      "metadata": {
        "id": "E3e-gQHg8z8x"
      }
    },
    {
      "cell_type": "code",
      "source": [
        "num_examples = X.shape[0]\n",
        "num_examples"
      ],
      "metadata": {
        "id": "xGeqMCV57ZJB",
        "colab": {
          "base_uri": "https://localhost:8080/"
        },
        "outputId": "0d02b2e9-957f-454d-cb16-5e27a3b4b65e"
      },
      "execution_count": 20,
      "outputs": [
        {
          "output_type": "execute_result",
          "data": {
            "text/plain": [
              "400"
            ]
          },
          "metadata": {},
          "execution_count": 20
        }
      ]
    },
    {
      "cell_type": "markdown",
      "source": [
        "## Task:\n",
        "\n",
        "Add the dummy feature in the feature matrix `X`and reshape it to the shape $(d, n)$."
      ],
      "metadata": {
        "id": "uPifeX-K9zuU"
      }
    },
    {
      "cell_type": "code",
      "source": [
        "X_with_dummy = np.hstack([np.ones((X.shape[0], 1)), X])\n",
        "d, n = X_with_dummy.shape\n",
        "\n",
        "print(\"Shape of X with dummy feature:\", X_with_dummy.shape)"
      ],
      "metadata": {
        "id": "yduBBJQgujfE",
        "colab": {
          "base_uri": "https://localhost:8080/"
        },
        "outputId": "8790ef3d-0bda-4a1d-c275-3f98212f8e1c"
      },
      "execution_count": 21,
      "outputs": [
        {
          "output_type": "stream",
          "name": "stdout",
          "text": [
            "Shape of X with dummy feature: (400, 2)\n"
          ]
        }
      ]
    },
    {
      "cell_type": "markdown",
      "source": [
        "## Question 16\n",
        "\n",
        "Our task is to apply the kernel regression with polynomial kernel of degree 3. We know that weight vector can be written as\n",
        "\n",
        "$$w = \\phi(\\mathbb{x})\\alpha$$\n",
        "\n",
        "let us call the vector $\\alpha$ as coefficient vector. Find the sum of elements in the coefficient vector.\n",
        "\n"
      ],
      "metadata": {
        "id": "HQtBOQua_HQB"
      }
    },
    {
      "cell_type": "code",
      "source": [
        "# Define the polynomial kernel function (degree 3)\n",
        "def polynomial_kernel(x1, x2, degree=3):\n",
        "    return (np.dot(x1, x2) + 1) ** degree\n",
        "\n",
        "# Compute the kernel matrix\n",
        "n_samples = X.shape[0]\n",
        "K = np.zeros((n_samples, n_samples))\n",
        "for i in range(n_samples):\n",
        "    for j in range(n_samples):\n",
        "        K[i, j] = polynomial_kernel(X[i], X[j])\n",
        "\n",
        "# Solve the linear system to find the coefficient vector alpha\n",
        "alpha = np.linalg.solve(K, y)\n",
        "\n",
        "# Now, you have the coefficient vector alpha\n",
        "\n",
        "# Calculate the sum of elements in alpha\n",
        "sum_of_alpha = np.sum(alpha)\n",
        "print(f\"Sum of elements in the coefficient vector alpha: {sum_of_alpha}\")"
      ],
      "metadata": {
        "id": "CVMDkgkNqCBG",
        "colab": {
          "base_uri": "https://localhost:8080/"
        },
        "outputId": "ad4aa4df-3c96-45f1-aea4-6e97c2287d1f"
      },
      "execution_count": 22,
      "outputs": [
        {
          "output_type": "stream",
          "name": "stdout",
          "text": [
            "Sum of elements in the coefficient vector alpha: 12.0\n"
          ]
        }
      ]
    },
    {
      "cell_type": "markdown",
      "source": [
        "## Question 17\n",
        "\n",
        "Find the sum of the predictions made by the kernel regression model of degree 3.\n",
        "\n"
      ],
      "metadata": {
        "id": "Xq0YtsGjA7IK"
      }
    },
    {
      "cell_type": "code",
      "source": [
        "def polynomial_kernel(x1, x2, degree=3):\n",
        "    return (np.dot(x1, x2) + 1) ** degree\n",
        "\n",
        "# Compute the kernel regression predictions\n",
        "n_samples = X.shape[0]\n",
        "predictions = np.zeros(n_samples)\n",
        "for i in range(n_samples):\n",
        "    prediction = 0\n",
        "    for j in range(n_samples):\n",
        "        prediction += alpha[j] * polynomial_kernel(X[i], X[j])\n",
        "    predictions[i] = prediction\n",
        "\n",
        "# Calculate the sum of the predictions\n",
        "sum_of_predictions = np.sum(predictions)\n",
        "print(f\"Sum of predictions made by the kernel regression model: {sum_of_predictions}\")"
      ],
      "metadata": {
        "id": "YAqln4GZ05dg",
        "colab": {
          "base_uri": "https://localhost:8080/"
        },
        "outputId": "970815cf-0599-4e8b-e5b6-094d94618c55"
      },
      "execution_count": 23,
      "outputs": [
        {
          "output_type": "stream",
          "name": "stderr",
          "text": [
            "<ipython-input-23-19f1fa468f73>:11: DeprecationWarning: Conversion of an array with ndim > 0 to a scalar is deprecated, and will error in future. Ensure you extract a single element from your array before performing this operation. (Deprecated NumPy 1.25.)\n",
            "  predictions[i] = prediction\n"
          ]
        },
        {
          "output_type": "stream",
          "name": "stdout",
          "text": [
            "Sum of predictions made by the kernel regression model: -48118.262477219105\n"
          ]
        }
      ]
    },
    {
      "cell_type": "markdown",
      "source": [
        "## Question 18\n",
        "\n",
        "Find the loss for the training data points. Consider the loss to be defined as\n",
        "\n",
        "$$ \\sqrt{\\dfrac{1}{n}\\sum\\limits_{i=1}^{n} (y_i- \\hat{y}_i)^2}\n",
        "$$\n",
        "\n",
        "Where $\\hat{y}_i$ is the prediction for $i^{th}$ data point.\n",
        "\n"
      ],
      "metadata": {
        "id": "pXRpijIeCcSr"
      }
    },
    {
      "cell_type": "code",
      "source": [
        "# Calculate the mean squared error (MSE)\n",
        "mse = np.mean((y - predictions) ** 2)\n",
        "print(f\"Mean Squared Error (MSE) for the training data: {mse}\")"
      ],
      "metadata": {
        "id": "8_i2Th-g1ToW",
        "colab": {
          "base_uri": "https://localhost:8080/"
        },
        "outputId": "af70e2e9-e49d-4999-9569-2d5bbca9c534"
      },
      "execution_count": 24,
      "outputs": [
        {
          "output_type": "stream",
          "name": "stdout",
          "text": [
            "Mean Squared Error (MSE) for the training data: 58006.447018624094\n"
          ]
        }
      ]
    },
    {
      "cell_type": "markdown",
      "source": [
        "### Test dataset\n",
        "\n",
        "run the following cell to get the test data matrix `X_test` and corresponding label vector `y_test`."
      ],
      "metadata": {
        "id": "nGpw3zpI65rm"
      }
    },
    {
      "cell_type": "code",
      "source": [
        "rng = np.random.default_rng(seed = 102)\n",
        "Xnew = np.arange(-2, 2, 0.03)\n",
        "ynew = Xnew**3 + rng.normal(0, 1.5, Xnew.shape[0])\n",
        "X_test = np.column_stack((np.ones(Xnew.shape[0]), Xnew.reshape(-1, 1))).T\n",
        "y_test = ynew.reshape(-1, 1)\n",
        "plt.scatter(Xnew,ynew)"
      ],
      "metadata": {
        "colab": {
          "base_uri": "https://localhost:8080/",
          "height": 448
        },
        "id": "fLNDYH_B67kN",
        "outputId": "7e8c4b69-322e-4fc5-e265-45e328447950"
      },
      "execution_count": 25,
      "outputs": [
        {
          "output_type": "execute_result",
          "data": {
            "text/plain": [
              "<matplotlib.collections.PathCollection at 0x7b9c2d143fd0>"
            ]
          },
          "metadata": {},
          "execution_count": 25
        },
        {
          "output_type": "display_data",
          "data": {
            "text/plain": [
              "<Figure size 640x480 with 1 Axes>"
            ],
            "image/png": "[encoded data removed]"
          },
          "metadata": {}
        }
      ]
    },
    {
      "cell_type": "markdown",
      "source": [
        "## Question 19\n",
        "\n",
        "Find the loss for the test data points. Consider the loss to be defined as\n",
        "\n",
        "$$ \\sqrt{\\dfrac{1}{n}\\sum\\limits_{i=1}^{n} (y_i- \\hat{y}_i)^2}\n",
        "$$\n",
        "\n",
        "Where $\\hat{y}_i$ is the prediction for $i^{th}$ data point.\n",
        "\n"
      ],
      "metadata": {
        "id": "5vlunIBzDI1_"
      }
    },
    {
      "cell_type": "code",
      "source": [
        "# Set the random seed for reproducibility\n",
        "rng = np.random.default_rng(seed=102)\n",
        "\n",
        "# Generate test data\n",
        "Xnew = np.arange(-2, 2, 0.03)\n",
        "ynew = Xnew**3 + rng.normal(0, 1.5, Xnew.shape[0])\n",
        "\n",
        "# Create the feature matrix and target vector\n",
        "X_test = np.column_stack((np.ones(Xnew.shape[0]), Xnew)).T\n",
        "y_test = ynew.reshape(-1, 1)\n",
        "\n",
        "# Define a linear regression model\n",
        "def linear_regression(X, theta):\n",
        "    return np.dot(theta.T, X)\n",
        "\n",
        "# Calculate the loss (mean squared error)\n",
        "def mean_squared_error(y_true, y_pred):\n",
        "    return np.mean((y_true - y_pred) ** 2)\n",
        "\n",
        "# Initialize model parameters (theta)\n",
        "theta = np.random.randn(2, 1)\n",
        "\n",
        "# Make predictions using the model\n",
        "y_pred = linear_regression(X_test, theta)\n",
        "\n",
        "# Calculate the mean squared error\n",
        "mse = mean_squared_error(y_test, y_pred)\n",
        "\n",
        "print(\"Mean Squared Error (MSE) on Test Data:\", mse)\n",
        "\n",
        "# Plot the data and regression line\n",
        "plt.scatter(Xnew, ynew, label='Data Points')\n",
        "plt.plot(Xnew, y_pred.flatten(), color='red', label='Regression Line')\n",
        "plt.legend()\n",
        "plt.xlabel('X')\n",
        "plt.ylabel('y')\n",
        "plt.show()"
      ],
      "metadata": {
        "id": "_RxSPslY7joK",
        "colab": {
          "base_uri": "https://localhost:8080/",
          "height": 467
        },
        "outputId": "38560534-b0b2-4df0-d6a3-7a05cc2afc68"
      },
      "execution_count": 26,
      "outputs": [
        {
          "output_type": "stream",
          "name": "stdout",
          "text": [
            "Mean Squared Error (MSE) on Test Data: 13.905206102356317\n"
          ]
        },
        {
          "output_type": "display_data",
          "data": {
            "text/plain": [
              "<Figure size 640x480 with 1 Axes>"
            ],
            "image/png": "[encoded data removed]"
          },
          "metadata": {}
        }
      ]
    }
  ]
}